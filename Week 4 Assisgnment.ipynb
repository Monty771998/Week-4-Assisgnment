{
 "cells": [
  {
   "cell_type": "markdown",
   "id": "83d91b44-8561-42c9-b00d-5ac1ed0afa16",
   "metadata": {},
   "source": [
    "Q1, Create a vehicle class with an init method having instance variables as name_of_vehicle, max_speed\n",
    "and average_of_vehicle."
   ]
  },
  {
   "cell_type": "code",
   "execution_count": 15,
   "id": "db87a6fe-336a-4eb7-bc7d-4e0032b5ae48",
   "metadata": {},
   "outputs": [],
   "source": [
    "class vehicle_class():\n",
    "    def __init__(self,name_of_vehicle,max_speed,average_of_vehicle):\n",
    "        self.name_of_vehicle = name_of_vehicle\n",
    "        self.max_speed = max_speed\n",
    "        self.average_of_vehicle = average_of_vehicle\n",
    "    \n",
    "    def get_info(self):\n",
    "        return self.name_of_vehicle,self.max_speed,self.average_of_vehicle"
   ]
  },
  {
   "cell_type": "code",
   "execution_count": 16,
   "id": "2ea3153e-8ffe-44f1-a041-2164cfab2f6d",
   "metadata": {},
   "outputs": [],
   "source": [
    "vehicle1 = vehicle_class('Honda',200,80)"
   ]
  },
  {
   "cell_type": "code",
   "execution_count": 17,
   "id": "4854130e-69c0-4375-88fc-7faf9e4d7d2e",
   "metadata": {},
   "outputs": [
    {
     "data": {
      "text/plain": [
       "80"
      ]
     },
     "execution_count": 17,
     "metadata": {},
     "output_type": "execute_result"
    }
   ],
   "source": [
    "vehicle1.average_of_vehicle"
   ]
  },
  {
   "cell_type": "code",
   "execution_count": 18,
   "id": "f36e95e8-504d-4dcd-81f0-7dc2cda34972",
   "metadata": {},
   "outputs": [
    {
     "data": {
      "text/plain": [
       "200"
      ]
     },
     "execution_count": 18,
     "metadata": {},
     "output_type": "execute_result"
    }
   ],
   "source": [
    "vehicle1.max_speed"
   ]
  },
  {
   "cell_type": "code",
   "execution_count": 19,
   "id": "6604df99-6876-4850-b7b5-199cc9f7a879",
   "metadata": {},
   "outputs": [
    {
     "data": {
      "text/plain": [
       "'Honda'"
      ]
     },
     "execution_count": 19,
     "metadata": {},
     "output_type": "execute_result"
    }
   ],
   "source": [
    "vehicle1.name_of_vehicle"
   ]
  },
  {
   "cell_type": "code",
   "execution_count": 21,
   "id": "33993bfd-7929-4dd1-8b9b-3db8001ef577",
   "metadata": {},
   "outputs": [
    {
     "data": {
      "text/plain": [
       "('Honda', 200, 80)"
      ]
     },
     "execution_count": 21,
     "metadata": {},
     "output_type": "execute_result"
    }
   ],
   "source": [
    "vehicle1.get_info()"
   ]
  },
  {
   "cell_type": "code",
   "execution_count": null,
   "id": "6c091ce2-92cd-495e-9997-1a93bd0117fd",
   "metadata": {},
   "outputs": [],
   "source": []
  },
  {
   "cell_type": "markdown",
   "id": "4b7a3cbc-d7b1-45e9-b2e8-33873a766f70",
   "metadata": {},
   "source": [
    "Q2. Create a child class car from the vehicle class created in Que 1, which will inherit the vehicle class.\n",
    "Create a method named seating_capacity which takes capacity as an argument and returns the name of\n",
    "the vehicle and its seating capacity."
   ]
  },
  {
   "cell_type": "code",
   "execution_count": 22,
   "id": "7ff70bca-6a23-4523-89d8-c8cd57d52ac7",
   "metadata": {},
   "outputs": [],
   "source": [
    "class Car(vehicle_class):\n",
    "    def seating_capacity(self,capacity):\n",
    "        return self.name_of_vehicle,capacity"
   ]
  },
  {
   "cell_type": "code",
   "execution_count": 24,
   "id": "653154aa-17f7-469c-ae37-25a711cac9e6",
   "metadata": {},
   "outputs": [],
   "source": [
    "car1 = Car('Tata',300,180)"
   ]
  },
  {
   "cell_type": "code",
   "execution_count": 25,
   "id": "f0c6da12-f41a-471a-b1b3-d67792f227ca",
   "metadata": {},
   "outputs": [
    {
     "data": {
      "text/plain": [
       "('Tata', 4)"
      ]
     },
     "execution_count": 25,
     "metadata": {},
     "output_type": "execute_result"
    }
   ],
   "source": [
    "car1.seating_capacity(4)"
   ]
  },
  {
   "cell_type": "code",
   "execution_count": null,
   "id": "2165f61a-e0e7-450f-b72f-6874f713c6a6",
   "metadata": {},
   "outputs": [],
   "source": []
  },
  {
   "cell_type": "markdown",
   "id": "605c12ae-c8d7-4246-88f7-dc9a294fe012",
   "metadata": {},
   "source": [
    "Q3. What is multiple inheritance? Write a python code to demonstrate multiple inheritance."
   ]
  },
  {
   "cell_type": "code",
   "execution_count": null,
   "id": "d80f0e9d-20f1-453f-b7db-92d988e84b18",
   "metadata": {},
   "outputs": [],
   "source": [
    "When child class inherit all the attributes and method of different parents class then it is known as multiple \n",
    "inheritance.eg"
   ]
  },
  {
   "cell_type": "code",
   "execution_count": 29,
   "id": "6207c2c2-7ad7-4e63-82a9-4c86dd1307e4",
   "metadata": {},
   "outputs": [],
   "source": [
    "class Test_matches():\n",
    "    def test_runs(self,average_runs):\n",
    "        return average_runs\n",
    "    \n",
    "class Odi_matches():\n",
    "    def odi_runs1(self,average_runs):\n",
    "        return average_runs\n",
    "    \n",
    "class Virat(Test_matches,Odi_matches):\n",
    "    pass\n",
    "    \n",
    "    "
   ]
  },
  {
   "cell_type": "code",
   "execution_count": 30,
   "id": "303cf0e9-da1f-4916-a9d8-574159647637",
   "metadata": {},
   "outputs": [],
   "source": [
    "virat = Virat()"
   ]
  },
  {
   "cell_type": "code",
   "execution_count": 32,
   "id": "d9b7bc14-48c4-4a9a-92e1-31fb60d947dd",
   "metadata": {},
   "outputs": [
    {
     "data": {
      "text/plain": [
       "500"
      ]
     },
     "execution_count": 32,
     "metadata": {},
     "output_type": "execute_result"
    }
   ],
   "source": [
    "virat.odi_runs1(500)"
   ]
  },
  {
   "cell_type": "code",
   "execution_count": 33,
   "id": "88f776f4-278d-4096-a15c-c97621fffb39",
   "metadata": {},
   "outputs": [
    {
     "data": {
      "text/plain": [
       "1500"
      ]
     },
     "execution_count": 33,
     "metadata": {},
     "output_type": "execute_result"
    }
   ],
   "source": [
    "virat.test_runs(1500)"
   ]
  },
  {
   "cell_type": "code",
   "execution_count": null,
   "id": "9939a614-abaf-4a59-852c-742ca921ac10",
   "metadata": {},
   "outputs": [],
   "source": []
  },
  {
   "cell_type": "markdown",
   "id": "c1e01d4a-7797-4f43-be9a-467d5d6705f8",
   "metadata": {},
   "source": [
    "Q4. What are getter and setter in python? Create a class and create a getter and a setter method in this\n",
    "class."
   ]
  },
  {
   "cell_type": "code",
   "execution_count": null,
   "id": "b9e636d8-2246-4e65-85c6-c5ace02cd8ef",
   "metadata": {},
   "outputs": [],
   "source": [
    "While using encapsulating , we can give limited access to users to use class attributes by getter method\n",
    "and users can set the value by using setter method."
   ]
  },
  {
   "cell_type": "code",
   "execution_count": 58,
   "id": "e2eaecaf-cd9b-4af3-a7e1-fa7f01e6f1c1",
   "metadata": {},
   "outputs": [],
   "source": [
    "class Student():\n",
    "    def __init__(self,name,class1,age):\n",
    "        self.__name = name\n",
    "        self.__class1 = class1\n",
    "        self.__age = age\n",
    "        \n",
    "    def get_name(self):\n",
    "        return self.__name\n",
    "    \n",
    "    def get_class1(self):\n",
    "        return self.__class1\n",
    "    \n",
    "    def set_class1(self,new_class1):\n",
    "        if new_class1 >=1 and new_class1 <=12:\n",
    "            self.__class1 = new_class1\n",
    "        else:\n",
    "            print('Invalid class, pls enter class b/w 1 to 12')\n",
    "            \n",
    "    def get_age(self):\n",
    "        return self.__age\n",
    "    \n",
    "    def set_age(self,new_age):\n",
    "        if new_age >=4 and new_age <=18:\n",
    "            self.__age = new_age\n",
    "            \n",
    "        else:\n",
    "            print('invalid age pls enter valid age')\n",
    "            \n",
    "        \n",
    "        "
   ]
  },
  {
   "cell_type": "code",
   "execution_count": 59,
   "id": "945ec28c-2a07-43be-8e56-c6ee0a14c188",
   "metadata": {},
   "outputs": [],
   "source": [
    "sd = Student('Monu',12,18)"
   ]
  },
  {
   "cell_type": "code",
   "execution_count": 60,
   "id": "ab1493ff-2a97-4874-b41a-cf46e4487a32",
   "metadata": {},
   "outputs": [
    {
     "data": {
      "text/plain": [
       "'Monu'"
      ]
     },
     "execution_count": 60,
     "metadata": {},
     "output_type": "execute_result"
    }
   ],
   "source": [
    "sd.get_name()"
   ]
  },
  {
   "cell_type": "code",
   "execution_count": 61,
   "id": "86645f4a-f13a-43b5-aa97-126f2e25ce43",
   "metadata": {},
   "outputs": [
    {
     "data": {
      "text/plain": [
       "18"
      ]
     },
     "execution_count": 61,
     "metadata": {},
     "output_type": "execute_result"
    }
   ],
   "source": [
    "sd.get_age()"
   ]
  },
  {
   "cell_type": "code",
   "execution_count": 62,
   "id": "80c11bae-b20d-43bc-a3bf-3365112d82a5",
   "metadata": {},
   "outputs": [],
   "source": [
    "sd.set_age(12)"
   ]
  },
  {
   "cell_type": "code",
   "execution_count": 63,
   "id": "7e25b7b8-89ce-4b04-82f2-1ed651fa94ba",
   "metadata": {},
   "outputs": [
    {
     "data": {
      "text/plain": [
       "12"
      ]
     },
     "execution_count": 63,
     "metadata": {},
     "output_type": "execute_result"
    }
   ],
   "source": [
    "sd.get_age()"
   ]
  },
  {
   "cell_type": "code",
   "execution_count": 64,
   "id": "e70c7343-b481-47ab-8315-b0396c41be18",
   "metadata": {},
   "outputs": [],
   "source": [
    "sd.set_class1(10)"
   ]
  },
  {
   "cell_type": "code",
   "execution_count": 66,
   "id": "0733b3c3-9995-4edd-b1d0-e0a50ae11f65",
   "metadata": {},
   "outputs": [
    {
     "data": {
      "text/plain": [
       "10"
      ]
     },
     "execution_count": 66,
     "metadata": {},
     "output_type": "execute_result"
    }
   ],
   "source": [
    "sd.get_class1()"
   ]
  },
  {
   "cell_type": "code",
   "execution_count": 68,
   "id": "73815ea0-d9b3-438b-867d-6da146bccf25",
   "metadata": {},
   "outputs": [
    {
     "name": "stdout",
     "output_type": "stream",
     "text": [
      "invalid age pls enter valid age\n"
     ]
    }
   ],
   "source": [
    "sd.set_age(50)"
   ]
  },
  {
   "cell_type": "code",
   "execution_count": 69,
   "id": "261d04db-0228-4605-aab0-1f0b59c4d89b",
   "metadata": {},
   "outputs": [
    {
     "name": "stdout",
     "output_type": "stream",
     "text": [
      "Invalid class, pls enter class b/w 1 to 12\n"
     ]
    }
   ],
   "source": [
    "sd.set_class1(-2)"
   ]
  },
  {
   "cell_type": "code",
   "execution_count": null,
   "id": "145fe5d6-ea8b-4ab2-b342-ab5d82ee97cf",
   "metadata": {},
   "outputs": [],
   "source": []
  },
  {
   "cell_type": "markdown",
   "id": "8b70a204-8100-4fd3-8c6a-b7bc99cbac77",
   "metadata": {},
   "source": [
    "Q5.What is method overriding in python? Write a python code to demonstrate method overriding."
   ]
  },
  {
   "cell_type": "code",
   "execution_count": null,
   "id": "a81fce93-05fd-4037-8df7-f032515690b2",
   "metadata": {},
   "outputs": [],
   "source": [
    "method overriding in python can be achieved by class method."
   ]
  },
  {
   "cell_type": "code",
   "execution_count": 3,
   "id": "82334455-ab70-4e9b-8318-666107e8a5a5",
   "metadata": {},
   "outputs": [],
   "source": [
    "class school:\n",
    "    def __init__(self,teacher,student):\n",
    "        self.teacher = teacher\n",
    "        self.student = student\n",
    "        \n",
    "    @classmethod\n",
    "    def number_of_teacher(cls,teacher,student):\n",
    "        return cls(teacher,student)"
   ]
  },
  {
   "cell_type": "code",
   "execution_count": 5,
   "id": "0e6348b0-226f-4bcd-9c11-a0bc28c9beb0",
   "metadata": {},
   "outputs": [],
   "source": [
    "sch = school.number_of_teacher(2500,130)"
   ]
  },
  {
   "cell_type": "code",
   "execution_count": 6,
   "id": "83d46493-4645-4112-b998-0eb412ab17df",
   "metadata": {},
   "outputs": [
    {
     "data": {
      "text/plain": [
       "130"
      ]
     },
     "execution_count": 6,
     "metadata": {},
     "output_type": "execute_result"
    }
   ],
   "source": [
    "sch.student"
   ]
  },
  {
   "cell_type": "code",
   "execution_count": null,
   "id": "5df53dd5-f552-42b2-a913-c725aa166d80",
   "metadata": {},
   "outputs": [],
   "source": []
  },
  {
   "cell_type": "code",
   "execution_count": null,
   "id": "68e8def2-4e1d-4594-b7c7-e5cadb9dc78a",
   "metadata": {},
   "outputs": [],
   "source": []
  },
  {
   "cell_type": "code",
   "execution_count": null,
   "id": "1bc2be74-4383-40d9-9826-7beb21d72616",
   "metadata": {},
   "outputs": [],
   "source": []
  },
  {
   "cell_type": "code",
   "execution_count": null,
   "id": "ae21fe37-cd7b-4bd9-bede-972df12fa167",
   "metadata": {},
   "outputs": [],
   "source": []
  },
  {
   "cell_type": "code",
   "execution_count": null,
   "id": "ea41b3cf-fedf-4ab5-81e5-b1557901f592",
   "metadata": {},
   "outputs": [],
   "source": []
  },
  {
   "cell_type": "code",
   "execution_count": null,
   "id": "334169eb-9c13-41dd-958f-b1060f6507cd",
   "metadata": {},
   "outputs": [],
   "source": []
  }
 ],
 "metadata": {
  "kernelspec": {
   "display_name": "Python 3 (ipykernel)",
   "language": "python",
   "name": "python3"
  },
  "language_info": {
   "codemirror_mode": {
    "name": "ipython",
    "version": 3
   },
   "file_extension": ".py",
   "mimetype": "text/x-python",
   "name": "python",
   "nbconvert_exporter": "python",
   "pygments_lexer": "ipython3",
   "version": "3.10.8"
  }
 },
 "nbformat": 4,
 "nbformat_minor": 5
}
